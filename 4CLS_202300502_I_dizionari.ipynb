{
  "nbformat": 4,
  "nbformat_minor": 0,
  "metadata": {
    "colab": {
      "provenance": []
    },
    "kernelspec": {
      "name": "python3",
      "display_name": "Python 3"
    },
    "language_info": {
      "name": "python"
    }
  },
  "cells": [
    {
      "cell_type": "markdown",
      "source": [
        "# **I DIZIONARI**\n",
        "\n",
        "E' un elenco di coppie di valori.\n",
        "Il primo valore è la ***chiave di ricerca*** e il secondo è il ***valore***.\n",
        "\n",
        "```\n",
        "{\n",
        "chiave di ricerca 1 : valore1 ,\n",
        "chiave di ricerca 2 : valore2\n",
        "}\n",
        "```\n",
        "\n"
      ],
      "metadata": {
        "id": "daJYegeYX0TI"
      }
    },
    {
      "cell_type": "code",
      "source": [
        "settimana = {\n",
        "    'Lun': 'Mon',\n",
        "    'Mar': 'Tue',\n",
        "    'Mer': 'Wed',\n",
        "    'Gio': 'Thu',\n",
        "    'Ven': 'Fri',\n",
        "    'Sab': 'Sat',\n",
        "    'Dom': 'Sun'\n",
        "}"
      ],
      "metadata": {
        "id": "94BZieWMYREw"
      },
      "execution_count": null,
      "outputs": []
    },
    {
      "cell_type": "code",
      "source": [
        "giornoDaTradurre = input(\"Inserisci il giorno della settimana da tradurre: \")\n",
        "traduzione = settimana[giornoDaTradurre]\n",
        "print(\"La traduzione è: \", traduzione)"
      ],
      "metadata": {
        "colab": {
          "base_uri": "https://localhost:8080/"
        },
        "id": "6tei566_Zrvk",
        "outputId": "f299c5dc-2be1-493b-d75f-05c4610628ca"
      },
      "execution_count": null,
      "outputs": [
        {
          "output_type": "stream",
          "name": "stdout",
          "text": [
            "Inserisci il giorno della settimana da tradurre: Dom\n",
            "La traduzione è:  Sun\n"
          ]
        }
      ]
    },
    {
      "cell_type": "code",
      "source": [
        "persona = {\n",
        "    'CF' : 'ABCDEF81T05F704H',\n",
        "    'nome': 'Stefano',\n",
        "    'cognome': 'Caglio',\n",
        "    'Data di nascita': '8 Ottobre 1981',\n",
        "    'città': 'Monza'\n",
        "}"
      ],
      "metadata": {
        "id": "ozBjP2bga-Xe"
      },
      "execution_count": null,
      "outputs": []
    },
    {
      "cell_type": "code",
      "source": [
        "persona"
      ],
      "metadata": {
        "colab": {
          "base_uri": "https://localhost:8080/"
        },
        "id": "XkMhUp-MbZM_",
        "outputId": "9ffd7801-fd1d-420f-8b2f-e256f67cb083"
      },
      "execution_count": null,
      "outputs": [
        {
          "output_type": "execute_result",
          "data": {
            "text/plain": [
              "{'CF': 'ABCDEF81T05F704H',\n",
              " 'nome': 'Stefano',\n",
              " 'cognome': 'Caglio',\n",
              " 'Data di nascita': '8 Ottobre 1981',\n",
              " 'città': 'Monza'}"
            ]
          },
          "metadata": {},
          "execution_count": 9
        }
      ]
    },
    {
      "cell_type": "markdown",
      "source": [
        "Queste informazioni possono essere modificate, aggiunte o elimnate."
      ],
      "metadata": {
        "id": "gvtuxFNkcA3w"
      }
    },
    {
      "cell_type": "code",
      "source": [
        "persona.pop('città')"
      ],
      "metadata": {
        "colab": {
          "base_uri": "https://localhost:8080/",
          "height": 35
        },
        "id": "oth7pf9ZcGJQ",
        "outputId": "9af47db8-a65d-426e-9525-e4334710774c"
      },
      "execution_count": null,
      "outputs": [
        {
          "output_type": "execute_result",
          "data": {
            "text/plain": [
              "'Monza'"
            ],
            "application/vnd.google.colaboratory.intrinsic+json": {
              "type": "string"
            }
          },
          "metadata": {},
          "execution_count": 10
        }
      ]
    },
    {
      "cell_type": "code",
      "source": [
        "persona"
      ],
      "metadata": {
        "colab": {
          "base_uri": "https://localhost:8080/"
        },
        "id": "pDdY5-97cSbB",
        "outputId": "12f3c610-e095-4a19-d11e-6bdf1282696a"
      },
      "execution_count": null,
      "outputs": [
        {
          "output_type": "execute_result",
          "data": {
            "text/plain": [
              "{'CF': 'ABCDEF81T05F704H',\n",
              " 'nome': 'Stefano',\n",
              " 'cognome': 'Caglio',\n",
              " 'Data di nascita': '8 Ottobre 1981'}"
            ]
          },
          "metadata": {},
          "execution_count": 11
        }
      ]
    },
    {
      "cell_type": "markdown",
      "source": [
        "Posso controllare se una chiave di ricerca esiste all'interno di una struttura 'dizionario'."
      ],
      "metadata": {
        "id": "jEHzYUfMcaqB"
      }
    },
    {
      "cell_type": "code",
      "source": [
        "print('città' in persona)\n",
        "print('nome' in persona)"
      ],
      "metadata": {
        "colab": {
          "base_uri": "https://localhost:8080/"
        },
        "id": "Lxn5ZAyRcbOb",
        "outputId": "c9f62ee0-4b30-4c86-e544-46d182b4d714"
      },
      "execution_count": null,
      "outputs": [
        {
          "output_type": "stream",
          "name": "stdout",
          "text": [
            "False\n",
            "True\n"
          ]
        }
      ]
    },
    {
      "cell_type": "markdown",
      "source": [
        "Se cerco di accedere ad una chiave che non è inclusa nel dizionario, viene sollevato un **KeyError** che indica la non esistenza della chiave."
      ],
      "metadata": {
        "id": "rcAqqUIAdA-Q"
      }
    },
    {
      "cell_type": "code",
      "source": [
        "persona['città']"
      ],
      "metadata": {
        "colab": {
          "base_uri": "https://localhost:8080/",
          "height": 166
        },
        "id": "5S9DhcjBc4cb",
        "outputId": "a83fdac6-7b31-43c6-92b2-291e95850c8e"
      },
      "execution_count": null,
      "outputs": [
        {
          "output_type": "error",
          "ename": "KeyError",
          "evalue": "ignored",
          "traceback": [
            "\u001b[0;31m---------------------------------------------------------------------------\u001b[0m",
            "\u001b[0;31mKeyError\u001b[0m                                  Traceback (most recent call last)",
            "\u001b[0;32m<ipython-input-15-a0882573e356>\u001b[0m in \u001b[0;36m<cell line: 1>\u001b[0;34m()\u001b[0m\n\u001b[0;32m----> 1\u001b[0;31m \u001b[0mpersona\u001b[0m\u001b[0;34m[\u001b[0m\u001b[0;34m'città'\u001b[0m\u001b[0;34m]\u001b[0m\u001b[0;34m\u001b[0m\u001b[0;34m\u001b[0m\u001b[0m\n\u001b[0m",
            "\u001b[0;31mKeyError\u001b[0m: 'città'"
          ]
        }
      ]
    },
    {
      "cell_type": "markdown",
      "source": [
        "Un'altra cosa furba che si può fare con i dizionari è utilizzare il ciclo FOR per \"spazzolare\" il contenuto di un dizionario."
      ],
      "metadata": {
        "id": "KIgK2GKxdMpL"
      }
    },
    {
      "cell_type": "code",
      "source": [],
      "metadata": {
        "id": "ULnZQPChdoqL"
      },
      "execution_count": null,
      "outputs": []
    },
    {
      "cell_type": "code",
      "source": [
        "for chiave in persona:\n",
        "  print('Chiave=', chiave, \"valore: \", persona[chiave])"
      ],
      "metadata": {
        "colab": {
          "base_uri": "https://localhost:8080/"
        },
        "id": "jveXp3DbdXfV",
        "outputId": "97b610ad-0173-4dc5-a8ea-ef73609d9f91"
      },
      "execution_count": null,
      "outputs": [
        {
          "output_type": "stream",
          "name": "stdout",
          "text": [
            "Chiave= CF valore:  ABCDEF81T05F704H\n",
            "Chiave= nome valore:  Stefano\n",
            "Chiave= cognome valore:  Caglio\n",
            "Chiave= Data di nascita valore:  8 Ottobre 1981\n"
          ]
        }
      ]
    },
    {
      "cell_type": "markdown",
      "source": [
        "Se voglio sapere quali sono le chiavi di ricerca contenute in un dizionario posso usare il metodo **.keys()**"
      ],
      "metadata": {
        "id": "8wks2zs1dujH"
      }
    },
    {
      "cell_type": "code",
      "source": [
        "persona.keys()"
      ],
      "metadata": {
        "colab": {
          "base_uri": "https://localhost:8080/"
        },
        "id": "yJPWpSt4d4x9",
        "outputId": "199ea586-1af2-49aa-85d1-c41d10f75f8f"
      },
      "execution_count": null,
      "outputs": [
        {
          "output_type": "execute_result",
          "data": {
            "text/plain": [
              "dict_keys(['CF', 'nome', 'cognome', 'Data di nascita'])"
            ]
          },
          "metadata": {},
          "execution_count": 17
        }
      ]
    }
  ]
}